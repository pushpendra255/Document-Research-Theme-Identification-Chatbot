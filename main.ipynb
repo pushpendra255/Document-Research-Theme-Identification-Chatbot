{
 "cells": [
  {
   "cell_type": "code",
   "execution_count": null,
   "id": "1f6b74e1-327a-4858-9371-8aa61a980312",
   "metadata": {},
   "outputs": [],
   "source": [
    "# ✅ Step-by-Step Jupyter Notebook Setup for Streamlit-based PDF Chatbot\n",
    "# 📁 Folder: C:/Users/Admin/Desktop/chatbot_theme_identifier\n",
    "\n",
    "import os\n",
    "\n",
    "base_path = r\"C:/Users/Admin/Desktop/chatbot_theme_identifier\"\n",
    "folders = [\n",
    "    \"backend/app/api\", \"backend/app/core\", \"backend/app/models\",\n",
    "    \"backend/app/services\", \"backend/data\", \"docs\", \"tests\", \"demo\"\n",
    "]\n",
    "\n",
    "for folder in folders:\n",
    "    os.makedirs(os.path.join(base_path, folder), exist_ok=True)\n",
    "\n",
    "# Create main.py, config.py, requirements.txt, Dockerfile, README.md\n",
    "open(os.path.join(base_path, \"backend/app/main.py\"), 'w').close()\n",
    "open(os.path.join(base_path, \"backend/app/config.py\"), 'w').close()\n",
    "open(os.path.join(base_path, \"backend/requirements.txt\"), 'w').close()\n",
    "open(os.path.join(base_path, \"backend/Dockerfile\"), 'w').close()\n",
    "open(os.path.join(base_path, \"README.md\"), 'w').close()\n",
    "\n",
    "print(\"✅ Folder structure and base files created.\")\n",
    "\n",
    "# 🔽 Step 2: Create requirements.txt\n",
    "req_text = \"\"\"streamlit\n",
    "PyMuPDF\n",
    "sentence-transformers\n",
    "faiss-cpu\n",
    "pytesseract\n",
    "Pillow\n",
    "\"\"\"\n",
    "with open(os.path.join(base_path, \"backend/requirements.txt\"), \"w\") as f:\n",
    "    f.write(req_text)\n",
    "\n",
    "# 🔽 Step 3: Create utils.py inside services\n",
    "utils_code = '''\n",
    "import os\n",
    "import json\n",
    "import fitz  # PyMuPDF\n",
    "import pytesseract\n",
    "import faiss\n",
    "import numpy as np\n",
    "from PIL import Image\n",
    "from sentence_transformers import SentenceTransformer\n",
    "\n",
    "model = SentenceTransformer(\"all-MiniLM-L6-v2\")\n",
    "\n",
    "def extract_text_from_pdf(path):\n",
    "    text = \"\"\n",
    "    try:\n",
    "        doc = fitz.open(path)\n",
    "        for page in doc:\n",
    "            text += page.get_text()\n",
    "    except:\n",
    "        text = pytesseract.image_to_string(Image.open(path))\n",
    "    return text\n",
    "\n",
    "def load_docs(folder):\n",
    "    files, texts = [], []\n",
    "    for file in os.listdir(folder):\n",
    "        if file.endswith(\".pdf\"):\n",
    "            full = os.path.join(folder, file)\n",
    "            text = extract_text_from_pdf(full)\n",
    "            files.append(file)\n",
    "            texts.append(text)\n",
    "    return texts, files\n",
    "\n",
    "def save_embeddings(texts, files, emb_path, meta_path):\n",
    "    embeddings = model.encode(texts)\n",
    "    index = faiss.IndexFlatL2(len(embeddings[0]))\n",
    "    index.add(np.array(embeddings))\n",
    "    faiss.write_index(index, emb_path)\n",
    "    with open(meta_path, \"w\", encoding=\"utf-8\") as f:\n",
    "        json.dump({\"files\": files, \"texts\": texts}, f)\n",
    "    return index, {\"files\": files, \"texts\": texts}\n",
    "\n",
    "def search_answer(query, index, meta, top_k=3):\n",
    "    query_vec = model.encode([query])\n",
    "    dist, idxs = index.search(np.array(query_vec), top_k)\n",
    "    return [(meta['files'][i], meta['texts'][i][:500]) for i in idxs[0]]\n",
    "'''\n",
    "with open(os.path.join(base_path, \"backend/app/services/utils.py\"), \"w\", encoding=\"utf-8\") as f:\n",
    "    f.write(utils_code)\n",
    "\n",
    "# 🔽 Step 4: Create streamlit app file\n",
    "app_code = '''\n",
    "import streamlit as st\n",
    "from app.services.utils import load_docs, save_embeddings, search_answer\n",
    "import os\n",
    "\n",
    "st.set_page_config(page_title=\"PDF Chatbot\", layout=\"centered\")\n",
    "st.title(\"📄 Chat with your Documents\")\n",
    "\n",
    "DOC_PATH = \"backend/data\"\n",
    "INDEX_PATH = \"backend/data/index.faiss\"\n",
    "META_PATH = \"backend/data/meta.json\"\n",
    "\n",
    "if 'index' not in st.session_state:\n",
    "    with st.spinner(\"Embedding PDFs...\"):\n",
    "        texts, files = load_docs(DOC_PATH)\n",
    "        index, meta = save_embeddings(texts, files, INDEX_PATH, META_PATH)\n",
    "        st.session_state.index = index\n",
    "        st.session_state.meta = meta\n",
    "\n",
    "query = st.text_input(\"Ask a question\")\n",
    "if query:\n",
    "    results = search_answer(query, st.session_state.index, st.session_state.meta)\n",
    "    for filename, snippet in results:\n",
    "        st.write(f\"📘 **{filename}**\")\n",
    "        st.write(snippet)\n",
    "        st.markdown(\"---\")\n",
    "'''\n",
    "with open(os.path.join(base_path, \"app.py\"), \"w\", encoding=\"utf-8\") as f:\n",
    "    f.write(app_code)\n",
    "\n",
    "print(\"✅ All files generated. Now ready for Streamlit run and Hugging Face deploy.\")\n"
   ]
  },
  {
   "cell_type": "code",
   "execution_count": 4,
   "id": "a78d9d69-6759-47a9-8e9b-bb7ed87d02b6",
   "metadata": {},
   "outputs": [],
   "source": [
    "open(\"backend/__init__.py\", \"w\").close()\n",
    "open(\"backend/app/__init__.py\", \"w\").close()\n",
    "open(\"backend/app/services/__init__.py\", \"w\").close()"
   ]
  },
  {
   "cell_type": "code",
   "execution_count": 1,
   "id": "a23acb13-3ca3-4e11-b4d9-907b86318e87",
   "metadata": {},
   "outputs": [
    {
     "name": "stdout",
     "output_type": "stream",
     "text": [
      "Requirement already satisfied: streamlit in c:\\users\\admin\\anaconda3\\lib\\site-packages (from -r backend/requirements.txt (line 1)) (1.35.0)\n",
      "Requirement already satisfied: PyMuPDF in c:\\users\\admin\\anaconda3\\lib\\site-packages (from -r backend/requirements.txt (line 2)) (1.25.5)\n",
      "Requirement already satisfied: sentence-transformers in c:\\users\\admin\\anaconda3\\lib\\site-packages (from -r backend/requirements.txt (line 3)) (3.1.0)\n",
      "Requirement already satisfied: faiss-cpu in c:\\users\\admin\\anaconda3\\lib\\site-packages (from -r backend/requirements.txt (line 4)) (1.11.0)\n",
      "Requirement already satisfied: pytesseract in c:\\users\\admin\\anaconda3\\lib\\site-packages (from -r backend/requirements.txt (line 5)) (0.3.13)\n",
      "Requirement already satisfied: Pillow in c:\\users\\admin\\anaconda3\\lib\\site-packages (from -r backend/requirements.txt (line 6)) (10.2.0)\n",
      "Requirement already satisfied: altair<6,>=4.0 in c:\\users\\admin\\anaconda3\\lib\\site-packages (from streamlit->-r backend/requirements.txt (line 1)) (5.0.1)\n",
      "Requirement already satisfied: blinker<2,>=1.0.0 in c:\\users\\admin\\anaconda3\\lib\\site-packages (from streamlit->-r backend/requirements.txt (line 1)) (1.6.2)\n",
      "Requirement already satisfied: cachetools<6,>=4.0 in c:\\users\\admin\\anaconda3\\lib\\site-packages (from streamlit->-r backend/requirements.txt (line 1)) (4.2.2)\n",
      "Requirement already satisfied: click<9,>=7.0 in c:\\users\\admin\\anaconda3\\lib\\site-packages (from streamlit->-r backend/requirements.txt (line 1)) (8.1.7)\n",
      "Requirement already satisfied: numpy<2,>=1.19.3 in c:\\users\\admin\\anaconda3\\lib\\site-packages (from streamlit->-r backend/requirements.txt (line 1)) (1.26.4)\n",
      "Requirement already satisfied: packaging<25,>=16.8 in c:\\users\\admin\\anaconda3\\lib\\site-packages (from streamlit->-r backend/requirements.txt (line 1)) (23.1)\n",
      "Requirement already satisfied: pandas<3,>=1.3.0 in c:\\users\\admin\\anaconda3\\lib\\site-packages (from streamlit->-r backend/requirements.txt (line 1)) (2.1.4)\n",
      "Requirement already satisfied: protobuf<5,>=3.20 in c:\\users\\admin\\anaconda3\\lib\\site-packages (from streamlit->-r backend/requirements.txt (line 1)) (4.25.4)\n",
      "Requirement already satisfied: pyarrow>=7.0 in c:\\users\\admin\\anaconda3\\lib\\site-packages (from streamlit->-r backend/requirements.txt (line 1)) (14.0.2)\n",
      "Requirement already satisfied: requests<3,>=2.27 in c:\\users\\admin\\anaconda3\\lib\\site-packages (from streamlit->-r backend/requirements.txt (line 1)) (2.32.3)\n",
      "Requirement already satisfied: rich<14,>=10.14.0 in c:\\users\\admin\\anaconda3\\lib\\site-packages (from streamlit->-r backend/requirements.txt (line 1)) (13.3.5)\n",
      "Requirement already satisfied: tenacity<9,>=8.1.0 in c:\\users\\admin\\anaconda3\\lib\\site-packages (from streamlit->-r backend/requirements.txt (line 1)) (8.2.2)\n",
      "Requirement already satisfied: toml<2,>=0.10.1 in c:\\users\\admin\\anaconda3\\lib\\site-packages (from streamlit->-r backend/requirements.txt (line 1)) (0.10.2)\n",
      "Requirement already satisfied: typing-extensions<5,>=4.3.0 in c:\\users\\admin\\anaconda3\\lib\\site-packages (from streamlit->-r backend/requirements.txt (line 1)) (4.12.2)\n",
      "Requirement already satisfied: gitpython!=3.1.19,<4,>=3.0.7 in c:\\users\\admin\\anaconda3\\lib\\site-packages (from streamlit->-r backend/requirements.txt (line 1)) (3.1.37)\n",
      "Requirement already satisfied: pydeck<1,>=0.8.0b4 in c:\\users\\admin\\anaconda3\\lib\\site-packages (from streamlit->-r backend/requirements.txt (line 1)) (0.8.0)\n",
      "Requirement already satisfied: tornado<7,>=6.0.3 in c:\\users\\admin\\anaconda3\\lib\\site-packages (from streamlit->-r backend/requirements.txt (line 1)) (6.3.3)\n",
      "Requirement already satisfied: watchdog>=2.1.5 in c:\\users\\admin\\anaconda3\\lib\\site-packages (from streamlit->-r backend/requirements.txt (line 1)) (2.1.6)\n",
      "Requirement already satisfied: transformers<5.0.0,>=4.38.0 in c:\\users\\admin\\anaconda3\\lib\\site-packages (from sentence-transformers->-r backend/requirements.txt (line 3)) (4.44.2)\n",
      "Requirement already satisfied: tqdm in c:\\users\\admin\\anaconda3\\lib\\site-packages (from sentence-transformers->-r backend/requirements.txt (line 3)) (4.65.0)\n",
      "Requirement already satisfied: torch>=1.11.0 in c:\\users\\admin\\anaconda3\\lib\\site-packages (from sentence-transformers->-r backend/requirements.txt (line 3)) (2.2.2)\n",
      "Requirement already satisfied: scikit-learn in c:\\users\\admin\\anaconda3\\lib\\site-packages (from sentence-transformers->-r backend/requirements.txt (line 3)) (1.2.2)\n",
      "Requirement already satisfied: scipy in c:\\users\\admin\\anaconda3\\lib\\site-packages (from sentence-transformers->-r backend/requirements.txt (line 3)) (1.11.4)\n",
      "Requirement already satisfied: huggingface-hub>=0.19.3 in c:\\users\\admin\\anaconda3\\lib\\site-packages (from sentence-transformers->-r backend/requirements.txt (line 3)) (0.24.6)\n",
      "Requirement already satisfied: jinja2 in c:\\users\\admin\\anaconda3\\lib\\site-packages (from altair<6,>=4.0->streamlit->-r backend/requirements.txt (line 1)) (3.1.3)\n",
      "Requirement already satisfied: jsonschema>=3.0 in c:\\users\\admin\\anaconda3\\lib\\site-packages (from altair<6,>=4.0->streamlit->-r backend/requirements.txt (line 1)) (4.19.2)\n",
      "Requirement already satisfied: toolz in c:\\users\\admin\\anaconda3\\lib\\site-packages (from altair<6,>=4.0->streamlit->-r backend/requirements.txt (line 1)) (0.12.0)\n",
      "Requirement already satisfied: colorama in c:\\users\\admin\\anaconda3\\lib\\site-packages (from click<9,>=7.0->streamlit->-r backend/requirements.txt (line 1)) (0.4.6)\n",
      "Requirement already satisfied: gitdb<5,>=4.0.1 in c:\\users\\admin\\anaconda3\\lib\\site-packages (from gitpython!=3.1.19,<4,>=3.0.7->streamlit->-r backend/requirements.txt (line 1)) (4.0.7)\n",
      "Requirement already satisfied: filelock in c:\\users\\admin\\anaconda3\\lib\\site-packages (from huggingface-hub>=0.19.3->sentence-transformers->-r backend/requirements.txt (line 3)) (3.13.1)\n",
      "Requirement already satisfied: fsspec>=2023.5.0 in c:\\users\\admin\\anaconda3\\lib\\site-packages (from huggingface-hub>=0.19.3->sentence-transformers->-r backend/requirements.txt (line 3)) (2023.10.0)\n",
      "Requirement already satisfied: pyyaml>=5.1 in c:\\users\\admin\\anaconda3\\lib\\site-packages (from huggingface-hub>=0.19.3->sentence-transformers->-r backend/requirements.txt (line 3)) (6.0.1)\n",
      "Requirement already satisfied: python-dateutil>=2.8.2 in c:\\users\\admin\\anaconda3\\lib\\site-packages (from pandas<3,>=1.3.0->streamlit->-r backend/requirements.txt (line 1)) (2.8.2)\n",
      "Requirement already satisfied: pytz>=2020.1 in c:\\users\\admin\\anaconda3\\lib\\site-packages (from pandas<3,>=1.3.0->streamlit->-r backend/requirements.txt (line 1)) (2023.3.post1)\n",
      "Requirement already satisfied: tzdata>=2022.1 in c:\\users\\admin\\anaconda3\\lib\\site-packages (from pandas<3,>=1.3.0->streamlit->-r backend/requirements.txt (line 1)) (2023.3)\n",
      "Requirement already satisfied: charset-normalizer<4,>=2 in c:\\users\\admin\\anaconda3\\lib\\site-packages (from requests<3,>=2.27->streamlit->-r backend/requirements.txt (line 1)) (2.0.4)\n",
      "Requirement already satisfied: idna<4,>=2.5 in c:\\users\\admin\\anaconda3\\lib\\site-packages (from requests<3,>=2.27->streamlit->-r backend/requirements.txt (line 1)) (3.7)\n",
      "Requirement already satisfied: urllib3<3,>=1.21.1 in c:\\users\\admin\\anaconda3\\lib\\site-packages (from requests<3,>=2.27->streamlit->-r backend/requirements.txt (line 1)) (2.2.3)\n",
      "Requirement already satisfied: certifi>=2017.4.17 in c:\\users\\admin\\anaconda3\\lib\\site-packages (from requests<3,>=2.27->streamlit->-r backend/requirements.txt (line 1)) (2024.2.2)\n",
      "Requirement already satisfied: markdown-it-py<3.0.0,>=2.2.0 in c:\\users\\admin\\anaconda3\\lib\\site-packages (from rich<14,>=10.14.0->streamlit->-r backend/requirements.txt (line 1)) (2.2.0)\n",
      "Requirement already satisfied: pygments<3.0.0,>=2.13.0 in c:\\users\\admin\\anaconda3\\lib\\site-packages (from rich<14,>=10.14.0->streamlit->-r backend/requirements.txt (line 1)) (2.15.1)\n",
      "Requirement already satisfied: sympy in c:\\users\\admin\\anaconda3\\lib\\site-packages (from torch>=1.11.0->sentence-transformers->-r backend/requirements.txt (line 3)) (1.12)\n",
      "Requirement already satisfied: networkx in c:\\users\\admin\\anaconda3\\lib\\site-packages (from torch>=1.11.0->sentence-transformers->-r backend/requirements.txt (line 3)) (3.1)\n",
      "Requirement already satisfied: regex!=2019.12.17 in c:\\users\\admin\\anaconda3\\lib\\site-packages (from transformers<5.0.0,>=4.38.0->sentence-transformers->-r backend/requirements.txt (line 3)) (2023.10.3)\n",
      "Requirement already satisfied: safetensors>=0.4.1 in c:\\users\\admin\\anaconda3\\lib\\site-packages (from transformers<5.0.0,>=4.38.0->sentence-transformers->-r backend/requirements.txt (line 3)) (0.4.5)\n",
      "Requirement already satisfied: tokenizers<0.20,>=0.19 in c:\\users\\admin\\anaconda3\\lib\\site-packages (from transformers<5.0.0,>=4.38.0->sentence-transformers->-r backend/requirements.txt (line 3)) (0.19.1)\n",
      "Requirement already satisfied: joblib>=1.1.1 in c:\\users\\admin\\anaconda3\\lib\\site-packages (from scikit-learn->sentence-transformers->-r backend/requirements.txt (line 3)) (1.2.0)\n",
      "Requirement already satisfied: threadpoolctl>=2.0.0 in c:\\users\\admin\\anaconda3\\lib\\site-packages (from scikit-learn->sentence-transformers->-r backend/requirements.txt (line 3)) (2.2.0)\n",
      "Requirement already satisfied: smmap<5,>=3.0.1 in c:\\users\\admin\\anaconda3\\lib\\site-packages (from gitdb<5,>=4.0.1->gitpython!=3.1.19,<4,>=3.0.7->streamlit->-r backend/requirements.txt (line 1)) (4.0.0)\n",
      "Requirement already satisfied: MarkupSafe>=2.0 in c:\\users\\admin\\anaconda3\\lib\\site-packages (from jinja2->altair<6,>=4.0->streamlit->-r backend/requirements.txt (line 1)) (2.1.3)\n",
      "Requirement already satisfied: attrs>=22.2.0 in c:\\users\\admin\\anaconda3\\lib\\site-packages (from jsonschema>=3.0->altair<6,>=4.0->streamlit->-r backend/requirements.txt (line 1)) (23.1.0)\n",
      "Requirement already satisfied: jsonschema-specifications>=2023.03.6 in c:\\users\\admin\\anaconda3\\lib\\site-packages (from jsonschema>=3.0->altair<6,>=4.0->streamlit->-r backend/requirements.txt (line 1)) (2023.7.1)\n",
      "Requirement already satisfied: referencing>=0.28.4 in c:\\users\\admin\\anaconda3\\lib\\site-packages (from jsonschema>=3.0->altair<6,>=4.0->streamlit->-r backend/requirements.txt (line 1)) (0.30.2)\n",
      "Requirement already satisfied: rpds-py>=0.7.1 in c:\\users\\admin\\anaconda3\\lib\\site-packages (from jsonschema>=3.0->altair<6,>=4.0->streamlit->-r backend/requirements.txt (line 1)) (0.10.6)\n",
      "Requirement already satisfied: mdurl~=0.1 in c:\\users\\admin\\anaconda3\\lib\\site-packages (from markdown-it-py<3.0.0,>=2.2.0->rich<14,>=10.14.0->streamlit->-r backend/requirements.txt (line 1)) (0.1.0)\n",
      "Requirement already satisfied: six>=1.5 in c:\\users\\admin\\anaconda3\\lib\\site-packages (from python-dateutil>=2.8.2->pandas<3,>=1.3.0->streamlit->-r backend/requirements.txt (line 1)) (1.16.0)\n",
      "Requirement already satisfied: mpmath>=0.19 in c:\\users\\admin\\anaconda3\\lib\\site-packages (from sympy->torch>=1.11.0->sentence-transformers->-r backend/requirements.txt (line 3)) (1.3.0)\n",
      "Note: you may need to restart the kernel to use updated packages.\n"
     ]
    }
   ],
   "source": [
    "pip install -r backend/requirements.txt"
   ]
  },
  {
   "cell_type": "code",
   "execution_count": 6,
   "id": "783d5278-8661-47b4-91d0-4c38115f0098",
   "metadata": {},
   "outputs": [
    {
     "name": "stdout",
     "output_type": "stream",
     "text": [
      "Requirement already satisfied: pymupdf in c:\\users\\admin\\anaconda3\\lib\\site-packages (1.25.5)\n"
     ]
    }
   ],
   "source": [
    "!pip install pymupdf"
   ]
  },
  {
   "cell_type": "code",
   "execution_count": 7,
   "id": "3e971062-505e-4a74-be89-213543b5d1fe",
   "metadata": {},
   "outputs": [
    {
     "name": "stdout",
     "output_type": "stream",
     "text": [
      "Requirement already satisfied: PyMuPDF in c:\\users\\admin\\anaconda3\\lib\\site-packages (1.25.5)\n",
      "Note: you may need to restart the kernel to use updated packages.\n"
     ]
    }
   ],
   "source": [
    "pip install PyMuPDF"
   ]
  },
  {
   "cell_type": "code",
   "execution_count": 9,
   "id": "1c788c9e-884f-4de2-838a-03d999d22b6a",
   "metadata": {},
   "outputs": [
    {
     "name": "stdout",
     "output_type": "stream",
     "text": [
      "Requirement already satisfied: nltk in c:\\users\\admin\\anaconda3\\lib\\site-packages (3.8.1)Note: you may need to restart the kernel to use updated packages.\n",
      "\n",
      "Requirement already satisfied: click in c:\\users\\admin\\anaconda3\\lib\\site-packages (from nltk) (8.1.7)\n",
      "Requirement already satisfied: joblib in c:\\users\\admin\\anaconda3\\lib\\site-packages (from nltk) (1.2.0)\n",
      "Requirement already satisfied: regex>=2021.8.3 in c:\\users\\admin\\anaconda3\\lib\\site-packages (from nltk) (2023.10.3)\n",
      "Requirement already satisfied: tqdm in c:\\users\\admin\\anaconda3\\lib\\site-packages (from nltk) (4.65.0)\n",
      "Requirement already satisfied: colorama in c:\\users\\admin\\anaconda3\\lib\\site-packages (from click->nltk) (0.4.6)\n"
     ]
    }
   ],
   "source": [
    "pip install nltk\n"
   ]
  },
  {
   "cell_type": "code",
   "execution_count": 13,
   "id": "1cefd2f4-fbd8-4081-810e-33dad7278971",
   "metadata": {},
   "outputs": [
    {
     "name": "stderr",
     "output_type": "stream",
     "text": [
      "[nltk_data] Downloading package punkt to\n",
      "[nltk_data]     C:\\Users\\Admin\\AppData\\Roaming\\nltk_data...\n",
      "[nltk_data]   Package punkt is already up-to-date!\n"
     ]
    },
    {
     "data": {
      "text/plain": [
       "True"
      ]
     },
     "execution_count": 13,
     "metadata": {},
     "output_type": "execute_result"
    }
   ],
   "source": [
    "import nltk\n",
    "nltk.download('punkt')"
   ]
  },
  {
   "cell_type": "code",
   "execution_count": 8,
   "id": "e7cba5e1-0f91-4dc1-aef4-e15f9c0d996e",
   "metadata": {},
   "outputs": [
    {
     "name": "stdout",
     "output_type": "stream",
     "text": [
      "Requirement already satisfied: pytesseract in c:\\users\\admin\\anaconda3\\lib\\site-packages (0.3.13)\n",
      "Requirement already satisfied: packaging>=21.3 in c:\\users\\admin\\anaconda3\\lib\\site-packages (from pytesseract) (23.1)\n",
      "Requirement already satisfied: Pillow>=8.0.0 in c:\\users\\admin\\anaconda3\\lib\\site-packages (from pytesseract) (10.2.0)\n",
      "Note: you may need to restart the kernel to use updated packages.\n"
     ]
    }
   ],
   "source": [
    "pip install pytesseract"
   ]
  },
  {
   "cell_type": "code",
   "execution_count": 1,
   "id": "81bc9e4d-8791-4f98-9a00-705bcd2c9760",
   "metadata": {},
   "outputs": [
    {
     "name": "stdout",
     "output_type": "stream",
     "text": [
      "C:\\Users\\Admin\\Desktop\\chatbot_theme_identifier\n"
     ]
    }
   ],
   "source": [
    "cd C:\\Users\\Admin\\Desktop\\chatbot_theme_identifier"
   ]
  },
  {
   "cell_type": "code",
   "execution_count": 2,
   "id": "fe76d7c2-6050-436a-9419-5f6ca98a7592",
   "metadata": {},
   "outputs": [
    {
     "ename": "SyntaxError",
     "evalue": "invalid syntax (3737097518.py, line 1)",
     "output_type": "error",
     "traceback": [
      "\u001b[1;36m  Cell \u001b[1;32mIn[2], line 1\u001b[1;36m\u001b[0m\n\u001b[1;33m    streamlit run app.py\u001b[0m\n\u001b[1;37m              ^\u001b[0m\n\u001b[1;31mSyntaxError\u001b[0m\u001b[1;31m:\u001b[0m invalid syntax\n"
     ]
    }
   ],
   "source": [
    "streamlit run app.py"
   ]
  },
  {
   "cell_type": "code",
   "execution_count": 3,
   "id": "d5af3907-76a4-44d4-bf64-b6414cbbd8c7",
   "metadata": {},
   "outputs": [],
   "source": [
    "def extract_text_from_pdf(path):\n",
    "    text = \"\"\n",
    "    try:\n",
    "        doc = fitz.open(path)\n",
    "        for page in doc:\n",
    "            content = page.get_text()\n",
    "            content = content.replace(\"United Nations\", \"\").strip()\n",
    "            text += content + \"\\n\"\n",
    "    except:\n",
    "        text = pytesseract.image_to_string(Image.open(path))\n",
    "    return text\n"
   ]
  },
  {
   "cell_type": "code",
   "execution_count": null,
   "id": "5c0680f1-62a6-46d2-87a6-781b91e73b41",
   "metadata": {},
   "outputs": [],
   "source": []
  }
 ],
 "metadata": {
  "kernelspec": {
   "display_name": "Python 3 (ipykernel)",
   "language": "python",
   "name": "python3"
  },
  "language_info": {
   "codemirror_mode": {
    "name": "ipython",
    "version": 3
   },
   "file_extension": ".py",
   "mimetype": "text/x-python",
   "name": "python",
   "nbconvert_exporter": "python",
   "pygments_lexer": "ipython3",
   "version": "3.11.7"
  }
 },
 "nbformat": 4,
 "nbformat_minor": 5
}
